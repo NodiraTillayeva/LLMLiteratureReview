{
 "cells": [
  {
   "cell_type": "code",
   "execution_count": 2,
   "metadata": {},
   "outputs": [
    {
     "name": "stdout",
     "output_type": "stream",
     "text": [
      "Requirement already satisfied: pandas in c:\\users\\user\\appdata\\local\\packages\\pythonsoftwarefoundation.python.3.11_qbz5n2kfra8p0\\localcache\\local-packages\\python311\\site-packages (2.2.3)\n",
      "Requirement already satisfied: openai in c:\\users\\user\\appdata\\local\\packages\\pythonsoftwarefoundation.python.3.11_qbz5n2kfra8p0\\localcache\\local-packages\\python311\\site-packages (1.59.8)\n",
      "Requirement already satisfied: numpy>=1.23.2 in c:\\users\\user\\appdata\\local\\packages\\pythonsoftwarefoundation.python.3.11_qbz5n2kfra8p0\\localcache\\local-packages\\python311\\site-packages (from pandas) (1.26.4)\n",
      "Requirement already satisfied: python-dateutil>=2.8.2 in c:\\users\\user\\appdata\\local\\packages\\pythonsoftwarefoundation.python.3.11_qbz5n2kfra8p0\\localcache\\local-packages\\python311\\site-packages (from pandas) (2.9.0.post0)\n",
      "Requirement already satisfied: pytz>=2020.1 in c:\\users\\user\\appdata\\local\\packages\\pythonsoftwarefoundation.python.3.11_qbz5n2kfra8p0\\localcache\\local-packages\\python311\\site-packages (from pandas) (2024.2)\n",
      "Requirement already satisfied: tzdata>=2022.7 in c:\\users\\user\\appdata\\local\\packages\\pythonsoftwarefoundation.python.3.11_qbz5n2kfra8p0\\localcache\\local-packages\\python311\\site-packages (from pandas) (2024.2)\n",
      "Requirement already satisfied: anyio<5,>=3.5.0 in c:\\users\\user\\appdata\\local\\packages\\pythonsoftwarefoundation.python.3.11_qbz5n2kfra8p0\\localcache\\local-packages\\python311\\site-packages (from openai) (4.6.0)\n",
      "Requirement already satisfied: distro<2,>=1.7.0 in c:\\users\\user\\appdata\\local\\packages\\pythonsoftwarefoundation.python.3.11_qbz5n2kfra8p0\\localcache\\local-packages\\python311\\site-packages (from openai) (1.9.0)\n",
      "Requirement already satisfied: httpx<1,>=0.23.0 in c:\\users\\user\\appdata\\local\\packages\\pythonsoftwarefoundation.python.3.11_qbz5n2kfra8p0\\localcache\\local-packages\\python311\\site-packages (from openai) (0.27.2)\n",
      "Requirement already satisfied: jiter<1,>=0.4.0 in c:\\users\\user\\appdata\\local\\packages\\pythonsoftwarefoundation.python.3.11_qbz5n2kfra8p0\\localcache\\local-packages\\python311\\site-packages (from openai) (0.8.2)\n",
      "Requirement already satisfied: pydantic<3,>=1.9.0 in c:\\users\\user\\appdata\\local\\packages\\pythonsoftwarefoundation.python.3.11_qbz5n2kfra8p0\\localcache\\local-packages\\python311\\site-packages (from openai) (2.10.5)\n",
      "Requirement already satisfied: sniffio in c:\\users\\user\\appdata\\local\\packages\\pythonsoftwarefoundation.python.3.11_qbz5n2kfra8p0\\localcache\\local-packages\\python311\\site-packages (from openai) (1.3.1)\n",
      "Requirement already satisfied: tqdm>4 in c:\\users\\user\\appdata\\local\\packages\\pythonsoftwarefoundation.python.3.11_qbz5n2kfra8p0\\localcache\\local-packages\\python311\\site-packages (from openai) (4.66.6)\n",
      "Requirement already satisfied: typing-extensions<5,>=4.11 in c:\\users\\user\\appdata\\local\\packages\\pythonsoftwarefoundation.python.3.11_qbz5n2kfra8p0\\localcache\\local-packages\\python311\\site-packages (from openai) (4.12.2)\n",
      "Requirement already satisfied: idna>=2.8 in c:\\users\\user\\appdata\\local\\packages\\pythonsoftwarefoundation.python.3.11_qbz5n2kfra8p0\\localcache\\local-packages\\python311\\site-packages (from anyio<5,>=3.5.0->openai) (3.10)\n",
      "Requirement already satisfied: certifi in c:\\users\\user\\appdata\\local\\packages\\pythonsoftwarefoundation.python.3.11_qbz5n2kfra8p0\\localcache\\local-packages\\python311\\site-packages (from httpx<1,>=0.23.0->openai) (2024.8.30)\n",
      "Requirement already satisfied: httpcore==1.* in c:\\users\\user\\appdata\\local\\packages\\pythonsoftwarefoundation.python.3.11_qbz5n2kfra8p0\\localcache\\local-packages\\python311\\site-packages (from httpx<1,>=0.23.0->openai) (1.0.5)\n",
      "Requirement already satisfied: h11<0.15,>=0.13 in c:\\users\\user\\appdata\\local\\packages\\pythonsoftwarefoundation.python.3.11_qbz5n2kfra8p0\\localcache\\local-packages\\python311\\site-packages (from httpcore==1.*->httpx<1,>=0.23.0->openai) (0.14.0)\n",
      "Requirement already satisfied: annotated-types>=0.6.0 in c:\\users\\user\\appdata\\local\\packages\\pythonsoftwarefoundation.python.3.11_qbz5n2kfra8p0\\localcache\\local-packages\\python311\\site-packages (from pydantic<3,>=1.9.0->openai) (0.7.0)\n",
      "Requirement already satisfied: pydantic-core==2.27.2 in c:\\users\\user\\appdata\\local\\packages\\pythonsoftwarefoundation.python.3.11_qbz5n2kfra8p0\\localcache\\local-packages\\python311\\site-packages (from pydantic<3,>=1.9.0->openai) (2.27.2)\n",
      "Requirement already satisfied: six>=1.5 in c:\\users\\user\\appdata\\local\\packages\\pythonsoftwarefoundation.python.3.11_qbz5n2kfra8p0\\localcache\\local-packages\\python311\\site-packages (from python-dateutil>=2.8.2->pandas) (1.16.0)\n",
      "Requirement already satisfied: colorama in c:\\users\\user\\appdata\\local\\packages\\pythonsoftwarefoundation.python.3.11_qbz5n2kfra8p0\\localcache\\local-packages\\python311\\site-packages (from tqdm>4->openai) (0.4.6)\n"
     ]
    },
    {
     "name": "stderr",
     "output_type": "stream",
     "text": [
      "\n",
      "[notice] A new release of pip is available: 24.0 -> 24.3.1\n",
      "[notice] To update, run: C:\\Users\\user\\AppData\\Local\\Microsoft\\WindowsApps\\PythonSoftwareFoundation.Python.3.11_qbz5n2kfra8p0\\python.exe -m pip install --upgrade pip\n"
     ]
    }
   ],
   "source": [
    "!pip install pandas openai\n"
   ]
  },
  {
   "cell_type": "code",
   "execution_count": 3,
   "metadata": {},
   "outputs": [
    {
     "name": "stdout",
     "output_type": "stream",
     "text": [
      "Requirement already satisfied: xlrd in c:\\programdata\\anaconda3\\lib\\site-packages (2.0.1)\n"
     ]
    }
   ],
   "source": [
    "!pip install xlrd"
   ]
  },
  {
   "cell_type": "code",
   "execution_count": 2,
   "metadata": {},
   "outputs": [
    {
     "name": "stdout",
     "output_type": "stream",
     "text": [
      "There are eight and twenty thousand moments in the span of a sun-kissed day, as fleeting as shadows in the dusk, each heartbeat a second on the grand stage of time.\n"
     ]
    }
   ],
   "source": [
    "from openai import OpenAI, types\n",
    "\n",
    "client = OpenAI() \n",
    "client.api_key =\"sk-Z2OiBLrrPNVXvl7EaHZj8SHMjXOo0FoOSHkkSlcwrLT3BlbkFJL3qaWbssfsw0iMYCXs-dCdjdwIo0wbQ3t2-WcWD0IA\"\n",
    "# Your code below:\n",
    "response = client.chat.completions.create( \n",
    "  model=\"gpt-3.5-turbo\", \n",
    "  messages=[ \n",
    "    { \n",
    "      \"role\": \"user\", \n",
    "      \"content\": \"Tell me how many seconds there are in a day in a Shakespearean tone?\" \n",
    "    } \n",
    "  ]) \n",
    "\n",
    "print(response.choices[0].message.content) "
   ]
  },
  {
   "cell_type": "code",
   "execution_count": 5,
   "metadata": {},
   "outputs": [
    {
     "name": "stdout",
     "output_type": "stream",
     "text": [
      "Forsooth, in a single day doth pass\n",
      "Twenty-four hours, a thousand moments fast\n",
      "Yet in each hour, sixty seconds doth remain\n",
      "Thus in a day, doth four and twenty times sixty reign\n",
      "A total of fourteen hundred and forty, be sure\n",
      "Seconds in a day, ever passing, ever pure.\n"
     ]
    }
   ],
   "source": [
    "print(response.choices[0].message.content) "
   ]
  },
  {
   "cell_type": "code",
   "execution_count": 6,
   "metadata": {},
   "outputs": [
    {
     "ename": "ImportError",
     "evalue": "cannot import name 'OpenAI' from 'openai' (c:\\ProgramData\\anaconda3\\Lib\\site-packages\\openai\\__init__.py)",
     "output_type": "error",
     "traceback": [
      "\u001b[1;31m---------------------------------------------------------------------------\u001b[0m",
      "\u001b[1;31mImportError\u001b[0m                               Traceback (most recent call last)",
      "Cell \u001b[1;32mIn[6], line 2\u001b[0m\n\u001b[0;32m      1\u001b[0m \u001b[38;5;66;03m# Import the necessary libraries and initialize the client\u001b[39;00m\n\u001b[1;32m----> 2\u001b[0m \u001b[38;5;28;01mfrom\u001b[39;00m \u001b[38;5;21;01mopenai\u001b[39;00m \u001b[38;5;28;01mimport\u001b[39;00m OpenAI, types\n\u001b[0;32m      4\u001b[0m client \u001b[38;5;241m=\u001b[39m OpenAI()\n\u001b[0;32m      5\u001b[0m client\u001b[38;5;241m.\u001b[39mapi_key \u001b[38;5;241m=\u001b[39m\u001b[38;5;124m\"\u001b[39m\u001b[38;5;124msk-Z2OiBLrrPNVXvl7EaHZj8SHMjXOo0FoOSHkkSlcwrLT3BlbkFJL3qaWbssfsw0iMYCXs-dCdjdwIo0wbQ3t2-WcWD0IA\u001b[39m\u001b[38;5;124m\"\u001b[39m\n",
      "\u001b[1;31mImportError\u001b[0m: cannot import name 'OpenAI' from 'openai' (c:\\ProgramData\\anaconda3\\Lib\\site-packages\\openai\\__init__.py)"
     ]
    }
   ],
   "source": [
    "# Import the necessary libraries and initialize the client\n",
    "from openai import OpenAI, types\n",
    "\n",
    "client = OpenAI()\n",
    "client.api_key =\"sk-Z2OiBLrrPNVXvl7EaHZj8SHMjXOo0FoOSHkkSlcwrLT3BlbkFJL3qaWbssfsw0iMYCXs-dCdjdwIo0wbQ3t2-WcWD0IA\"\n",
    "\n",
    "# Sample paper details for testing\n",
    "paper_details = {\n",
    "    \"title\": \"Mobility Patterns and the Spread of Infectious Diseases: Insights from Public Datasets\",\n",
    "    \"abstract\": (\n",
    "        \"This study leverages publicly available mobility data to analyze the effects of human movement \"\n",
    "        \"patterns on the spread of infectious diseases. Using large-scale datasets derived from urban transit \"\n",
    "        \"and cellphone location data, we explore correlations between mobility trends and infection rates. \"\n",
    "        \"Findings suggest that reduced movement is associated with slower disease transmission in major metropolitan areas.\"\n",
    "    ),\n",
    "    \"public_availability\": \"Yes\",  # Can be \"Yes\" or \"No\" depending on paper's access policy\n",
    "    \"dataset_info\": \"The datasets used are from public transit authorities and anonymized cellphone data aggregates.\"\n",
    "}\n",
    "\n",
    "# Construct the prompt with clear instructions.\n",
    "prompt = f\"\"\"\n",
    "You are an expert in epidemiology and data science. I need you to evaluate the following research paper based on the criteria below:\n",
    "\n",
    "1. **Relevance**: On a scale from 0 to 100, how strongly is this paper focused on the topic of human movement analysis and its effect on infectious diseases?\n",
    "2. **Public Data Usage**: Does the paper use publicly available mobility datasets? Answer with \"Yes\" or \"No\".\n",
    "3. **Justification**: Provide a brief explanation of your evaluation.\n",
    "\n",
    "Here is the paper information:\n",
    "\n",
    "Title: {paper_details['title']}\n",
    "\n",
    "Abstract: {paper_details['abstract']}\n",
    "\n",
    "Public Availability: {paper_details['public_availability']}\n",
    "\n",
    "Dataset Information: {paper_details['dataset_info']}\n",
    "\n",
    "Please provide your response in the following JSON format:\n",
    "\n",
    "{{\n",
    "  \"relevance_score\": <number between 0 and 100>,\n",
    "  \"public_data\": \"<Yes or No>\",\n",
    "  \"justification\": \"<your explanation>\"\n",
    "}}\n",
    "\"\"\"\n",
    "\n",
    "# Call the OpenAI chat completion API\n",
    "response = client.chat.completions.create(\n",
    "    model=\"gpt-3.5-turbo\",\n",
    "    messages=[\n",
    "        {\"role\": \"user\", \"content\": prompt}\n",
    "    ]\n",
    ")\n",
    "\n",
    "# Print the output from the model\n",
    "print(response.choices[0].message.content)\n"
   ]
  },
  {
   "cell_type": "code",
   "execution_count": 7,
   "metadata": {},
   "outputs": [
    {
     "ename": "ImportError",
     "evalue": "cannot import name 'OpenAI' from 'openai' (c:\\ProgramData\\anaconda3\\Lib\\site-packages\\openai\\__init__.py)",
     "output_type": "error",
     "traceback": [
      "\u001b[1;31m---------------------------------------------------------------------------\u001b[0m",
      "\u001b[1;31mImportError\u001b[0m                               Traceback (most recent call last)",
      "Cell \u001b[1;32mIn[7], line 4\u001b[0m\n\u001b[0;32m      2\u001b[0m \u001b[38;5;28;01mimport\u001b[39;00m \u001b[38;5;21;01mjson\u001b[39;00m\n\u001b[0;32m      3\u001b[0m \u001b[38;5;28;01mimport\u001b[39;00m \u001b[38;5;21;01mtime\u001b[39;00m\n\u001b[1;32m----> 4\u001b[0m \u001b[38;5;28;01mfrom\u001b[39;00m \u001b[38;5;21;01mopenai\u001b[39;00m \u001b[38;5;28;01mimport\u001b[39;00m OpenAI, types\n\u001b[0;32m      6\u001b[0m \u001b[38;5;66;03m# Initialize the OpenAI client with your API key\u001b[39;00m\n\u001b[0;32m      7\u001b[0m client \u001b[38;5;241m=\u001b[39m OpenAI()\n",
      "\u001b[1;31mImportError\u001b[0m: cannot import name 'OpenAI' from 'openai' (c:\\ProgramData\\anaconda3\\Lib\\site-packages\\openai\\__init__.py)"
     ]
    }
   ],
   "source": [
    "import pandas as pd\n",
    "import json\n",
    "import time\n",
    "from openai import OpenAI, types\n",
    "\n",
    "# Initialize the OpenAI client with your API key\n",
    "client = OpenAI()\n",
    "client.api_key =\"sk-Z2OiBLrrPNVXvl7EaHZj8SHMjXOo0FoOSHkkSlcwrLT3BlbkFJL3qaWbssfsw0iMYCXs-dCdjdwIo0wbQ3t2-WcWD0IA\"\n",
    "\n",
    "# Read the Excel file into a pandas DataFrame.\n",
    "# Adjust the file path if necessary.\n",
    "df = pd.read_excel(\"savedrecs.xls\")\n",
    "\n",
    "# Create an empty list to store evaluation results\n",
    "evaluation_results = []\n",
    "\n",
    "# Define a function that builds the prompt for a given paper (row)\n",
    "def build_prompt(row):\n",
    "    # Extract fields from the row\n",
    "    # Adjust the column names if necessary to match your Excel file\n",
    "    title = row.get(\"Article Title\", \"No Title Provided\")\n",
    "    abstract = row.get(\"Abstract\", \"No Abstract Provided\")\n",
    "    # Optional: You may include other details if available. For example:\n",
    "    # source_title = row.get(\"Source Title\", \"No Source Provided\")\n",
    "    # For this example, we focus on the title and abstract.\n",
    "    \n",
    "    prompt = f\"\"\"\n",
    "You are an expert in epidemiology and data science. I need you to evaluate the following research paper based on the criteria below:\n",
    "\n",
    "1. **Relevance**: On a scale from 0 to 100, how strongly is this paper focused on the topic of human movement analysis and its effect on infectious diseases?\n",
    "2. **Public Data Usage**: Does the paper use publicly available mobility datasets? Answer with \"Yes\" or \"No\".\n",
    "3. **Justification**: Provide a brief explanation of your evaluation.\n",
    "\n",
    "Here is the paper information:\n",
    "\n",
    "Title: {title}\n",
    "\n",
    "Abstract: {abstract}\n",
    "\n",
    "Please provide your response in the following JSON format:\n",
    "\n",
    "{{\n",
    "  \"relevance_score\": <number between 0 and 100>,\n",
    "  \"public_data\": \"<Yes or No>\",\n",
    "  \"justification\": \"<your explanation>\"\n",
    "}}\n",
    "    \"\"\"\n",
    "    return prompt\n",
    "\n",
    "# Iterate over each paper in the DataFrame\n",
    "# For demonstration purposes, you might want to process only a subset of rows.\n",
    "for index, row in df.iterrows():\n",
    "    prompt_text = build_prompt(row)\n",
    "    \n",
    "    try:\n",
    "        # Call the OpenAI Chat Completion API\n",
    "        response = client.chat.completions.create(\n",
    "            model=\"gpt-3.5-turbo\",\n",
    "            messages=[\n",
    "                {\"role\": \"user\", \"content\": prompt_text}\n",
    "            ]\n",
    "        )\n",
    "        \n",
    "        # Get the message content from the response\n",
    "        response_content = response.choices[0].message.content.strip()\n",
    "        print(f\"Response for record {index}:\")\n",
    "        print(response_content)\n",
    "        \n",
    "        # Attempt to parse the response as JSON\n",
    "        try:\n",
    "            response_data = json.loads(response_content)\n",
    "        except json.JSONDecodeError:\n",
    "            # If the response is not valid JSON, store the raw string\n",
    "            response_data = {\"error\": \"Invalid JSON response\", \"raw_response\": response_content}\n",
    "        \n",
    "        # Append the result along with a reference to the original paper (for example, title)\n",
    "        evaluation_results.append({\n",
    "            \"index\": index,\n",
    "            \"title\": row.get(\"Article Title\", \"No Title Provided\"),\n",
    "            \"evaluation\": response_data\n",
    "        })\n",
    "    \n",
    "    except Exception as e:\n",
    "        print(f\"An error occurred processing record {index}: {e}\")\n",
    "        evaluation_results.append({\n",
    "            \"index\": index,\n",
    "            \"title\": row.get(\"Article Title\", \"No Title Provided\"),\n",
    "            \"evaluation\": {\"error\": str(e)}\n",
    "        })\n",
    "    \n",
    "    # Optional: Pause for a short duration to respect API rate limits\n",
    "    time.sleep(1)\n",
    "\n",
    "# Convert the results into a DataFrame for further analysis or saving\n",
    "results_df = pd.DataFrame(evaluation_results)\n",
    "\n",
    "# Display the evaluation results\n",
    "print(results_df)\n",
    "\n",
    "# Optionally, you can save the results to a new Excel or CSV file:\n",
    "results_df.to_excel(\"evaluation_results.xlsx\", index=False)\n",
    "# or\n",
    "results_df.to_csv(\"evaluation_results.csv\", index=False)\n"
   ]
  },
  {
   "cell_type": "code",
   "execution_count": null,
   "metadata": {},
   "outputs": [],
   "source": []
  },
  {
   "cell_type": "code",
   "execution_count": 4,
   "metadata": {},
   "outputs": [
    {
     "name": "stdout",
     "output_type": "stream",
     "text": [
      "ChatCompletionMessage(content='Code calls itself back,  \\nLayers unfold endlessly—  \\nLoops within the loop.', refusal=None, role='assistant', audio=None, function_call=None, tool_calls=None)\n"
     ]
    }
   ],
   "source": [
    "from openai import OpenAI\n",
    "client = OpenAI()\n",
    "client.api_key =\"sk-Z2OiBLrrPNVXvl7EaHZj8SHMjXOo0FoOSHkkSlcwrLT3BlbkFJL3qaWbssfsw0iMYCXs-dCdjdwIo0wbQ3t2-WcWD0IA\"\n",
    "\n",
    "completion = client.chat.completions.create(\n",
    "    model=\"gpt-4o\",\n",
    "    messages=[\n",
    "        {\"role\": \"developer\", \"content\": \"You are a helpful assistant.\"},\n",
    "        {\n",
    "            \"role\": \"user\",\n",
    "            \"content\": \"Write a haiku about recursion in programming.\"\n",
    "        }\n",
    "    ]\n",
    ")\n",
    "\n",
    "print(completion.choices[0].message)"
   ]
  },
  {
   "cell_type": "code",
   "execution_count": 5,
   "metadata": {},
   "outputs": [
    {
     "name": "stdout",
     "output_type": "stream",
     "text": [
      "Abstract: This study explores the relationship between urban planning and pedestrian behavior in metropolitan areas.\n",
      "\n",
      "Relevance Score and Explanation: I would rate the relevance of this abstract to the topic of human mobility as an 8 out of 10. \n",
      "\n",
      "Explanation: Human mobility refers to the movement of people across various spaces, and pedestrian behavior is a fundamental aspect of this. The abstract discusses the connection between urban planning and how pedestrians move and behave in metropolitan areas, which directly relates to understanding and influencing human mobility patterns. Urban planning can significantly impact the efficiency, safety, and accessibility of pedestrian pathways, all of which are crucial elements of human mobility in urban contexts. Therefore, the study's focus on these interactions makes it highly relevant to the topic.\n"
     ]
    }
   ],
   "source": [
    "import random\n",
    "from openai import OpenAI\n",
    "\n",
    "# Initialize the OpenAI client\n",
    "client = OpenAI()\n",
    "client.api_key = \"sk-Z2OiBLrrPNVXvl7EaHZj8SHMjXOo0FoOSHkkSlcwrLT3BlbkFJL3qaWbssfsw0iMYCXs-dCdjdwIo0wbQ3t2-WcWD0IA\"\n",
    "\n",
    "# List of random abstracts (you can replace these with actual abstracts)\n",
    "abstracts = [\n",
    "    \"This study explores the relationship between urban planning and pedestrian behavior in metropolitan areas.\",\n",
    "    \"The effects of global warming on marine ecosystems have been studied extensively over the past decade.\",\n",
    "    \"Human mobility patterns during pandemics reveal significant shifts in travel behavior and work locations.\",\n",
    "    \"Advancements in renewable energy have led to a significant reduction in carbon emissions globally.\",\n",
    "    \"Analyzing migration trends over the past century highlights the socio-economic factors driving relocation.\"\n",
    "]\n",
    "\n",
    "# Choose a random abstract\n",
    "random_abstract = random.choice(abstracts)\n",
    "\n",
    "# Make a completion request to the OpenAI API\n",
    "response = client.chat.completions.create(\n",
    "    model=\"gpt-4o\",  # You can replace this with the desired GPT model\n",
    "    messages=[\n",
    "        {\"role\": \"system\", \"content\": \"You are an expert on human mobility and its related topics.\"},\n",
    "        {\"role\": \"user\", \"content\": f\"Rate the relevance of the following abstract to the topic of human mobility on a scale of 1 to 10. Provide a brief explanation for your score.\\n\\nAbstract: {random_abstract}\"}\n",
    "    ]\n",
    ")\n",
    "\n",
    "# Extract the model's response\n",
    "relevance_score = response.choices[0].message.content\n",
    "\n",
    "# Print the abstract and the relevance score\n",
    "print(f\"Abstract: {random_abstract}\\n\")\n",
    "print(f\"Relevance Score and Explanation: {relevance_score}\")\n"
   ]
  },
  {
   "cell_type": "code",
   "execution_count": 6,
   "metadata": {},
   "outputs": [
    {
     "name": "stdout",
     "output_type": "stream",
     "text": [
      "Note: you may need to restart the kernel to use updated packages.\n"
     ]
    },
    {
     "name": "stderr",
     "output_type": "stream",
     "text": [
      "ERROR: Could not find a version that satisfies the requirement openxyl (from versions: none)\n",
      "ERROR: No matching distribution found for openxyl\n",
      "\n",
      "[notice] A new release of pip is available: 24.0 -> 24.3.1\n",
      "[notice] To update, run: C:\\Users\\user\\AppData\\Local\\Microsoft\\WindowsApps\\PythonSoftwareFoundation.Python.3.11_qbz5n2kfra8p0\\python.exe -m pip install --upgrade pip\n"
     ]
    }
   ],
   "source": [
    "pip install openxyl"
   ]
  },
  {
   "cell_type": "code",
   "execution_count": 5,
   "metadata": {},
   "outputs": [
    {
     "name": "stdout",
     "output_type": "stream",
     "text": [
      "Evaluating paper: Comparing metapopulation dynamics of infectious diseases under different models of human movement\n",
      "Evaluating paper: Evaluating the impact of human flow on the spread of infectious diseases\n",
      "Evaluating paper: Modeling Impact of Temperature and Human Movement on the Persistence of Dengue Disease\n",
      "Evaluating paper: Human migration and infectious diseases\n"
     ]
    },
    {
     "ename": "ModuleNotFoundError",
     "evalue": "No module named 'openpyxl'",
     "output_type": "error",
     "traceback": [
      "\u001b[1;31m---------------------------------------------------------------------------\u001b[0m",
      "\u001b[1;31mModuleNotFoundError\u001b[0m                       Traceback (most recent call last)",
      "Cell \u001b[1;32mIn[5], line 60\u001b[0m\n\u001b[0;32m     58\u001b[0m output_file \u001b[38;5;241m=\u001b[39m \u001b[38;5;124m\"\u001b[39m\u001b[38;5;124mpaper_relevance_scores.xlsx\u001b[39m\u001b[38;5;124m\"\u001b[39m\n\u001b[0;32m     59\u001b[0m output_data \u001b[38;5;241m=\u001b[39m pd\u001b[38;5;241m.\u001b[39mDataFrame(results)\n\u001b[1;32m---> 60\u001b[0m \u001b[43moutput_data\u001b[49m\u001b[38;5;241;43m.\u001b[39;49m\u001b[43mto_excel\u001b[49m\u001b[43m(\u001b[49m\u001b[43moutput_file\u001b[49m\u001b[43m,\u001b[49m\u001b[43m \u001b[49m\u001b[43mindex\u001b[49m\u001b[38;5;241;43m=\u001b[39;49m\u001b[38;5;28;43;01mFalse\u001b[39;49;00m\u001b[43m)\u001b[49m\n\u001b[0;32m     61\u001b[0m \u001b[38;5;28mprint\u001b[39m(\u001b[38;5;124mf\u001b[39m\u001b[38;5;124m\"\u001b[39m\u001b[38;5;124mResults saved to \u001b[39m\u001b[38;5;132;01m{\u001b[39;00moutput_file\u001b[38;5;132;01m}\u001b[39;00m\u001b[38;5;124m\"\u001b[39m)\n",
      "File \u001b[1;32m~\\AppData\\Local\\Packages\\PythonSoftwareFoundation.Python.3.11_qbz5n2kfra8p0\\LocalCache\\local-packages\\Python311\\site-packages\\pandas\\util\\_decorators.py:333\u001b[0m, in \u001b[0;36mdeprecate_nonkeyword_arguments.<locals>.decorate.<locals>.wrapper\u001b[1;34m(*args, **kwargs)\u001b[0m\n\u001b[0;32m    327\u001b[0m \u001b[38;5;28;01mif\u001b[39;00m \u001b[38;5;28mlen\u001b[39m(args) \u001b[38;5;241m>\u001b[39m num_allow_args:\n\u001b[0;32m    328\u001b[0m     warnings\u001b[38;5;241m.\u001b[39mwarn(\n\u001b[0;32m    329\u001b[0m         msg\u001b[38;5;241m.\u001b[39mformat(arguments\u001b[38;5;241m=\u001b[39m_format_argument_list(allow_args)),\n\u001b[0;32m    330\u001b[0m         \u001b[38;5;167;01mFutureWarning\u001b[39;00m,\n\u001b[0;32m    331\u001b[0m         stacklevel\u001b[38;5;241m=\u001b[39mfind_stack_level(),\n\u001b[0;32m    332\u001b[0m     )\n\u001b[1;32m--> 333\u001b[0m \u001b[38;5;28;01mreturn\u001b[39;00m \u001b[43mfunc\u001b[49m\u001b[43m(\u001b[49m\u001b[38;5;241;43m*\u001b[39;49m\u001b[43margs\u001b[49m\u001b[43m,\u001b[49m\u001b[43m \u001b[49m\u001b[38;5;241;43m*\u001b[39;49m\u001b[38;5;241;43m*\u001b[39;49m\u001b[43mkwargs\u001b[49m\u001b[43m)\u001b[49m\n",
      "File \u001b[1;32m~\\AppData\\Local\\Packages\\PythonSoftwareFoundation.Python.3.11_qbz5n2kfra8p0\\LocalCache\\local-packages\\Python311\\site-packages\\pandas\\core\\generic.py:2417\u001b[0m, in \u001b[0;36mNDFrame.to_excel\u001b[1;34m(self, excel_writer, sheet_name, na_rep, float_format, columns, header, index, index_label, startrow, startcol, engine, merge_cells, inf_rep, freeze_panes, storage_options, engine_kwargs)\u001b[0m\n\u001b[0;32m   2404\u001b[0m \u001b[38;5;28;01mfrom\u001b[39;00m \u001b[38;5;21;01mpandas\u001b[39;00m\u001b[38;5;21;01m.\u001b[39;00m\u001b[38;5;21;01mio\u001b[39;00m\u001b[38;5;21;01m.\u001b[39;00m\u001b[38;5;21;01mformats\u001b[39;00m\u001b[38;5;21;01m.\u001b[39;00m\u001b[38;5;21;01mexcel\u001b[39;00m \u001b[38;5;28;01mimport\u001b[39;00m ExcelFormatter\n\u001b[0;32m   2406\u001b[0m formatter \u001b[38;5;241m=\u001b[39m ExcelFormatter(\n\u001b[0;32m   2407\u001b[0m     df,\n\u001b[0;32m   2408\u001b[0m     na_rep\u001b[38;5;241m=\u001b[39mna_rep,\n\u001b[1;32m   (...)\u001b[0m\n\u001b[0;32m   2415\u001b[0m     inf_rep\u001b[38;5;241m=\u001b[39minf_rep,\n\u001b[0;32m   2416\u001b[0m )\n\u001b[1;32m-> 2417\u001b[0m \u001b[43mformatter\u001b[49m\u001b[38;5;241;43m.\u001b[39;49m\u001b[43mwrite\u001b[49m\u001b[43m(\u001b[49m\n\u001b[0;32m   2418\u001b[0m \u001b[43m    \u001b[49m\u001b[43mexcel_writer\u001b[49m\u001b[43m,\u001b[49m\n\u001b[0;32m   2419\u001b[0m \u001b[43m    \u001b[49m\u001b[43msheet_name\u001b[49m\u001b[38;5;241;43m=\u001b[39;49m\u001b[43msheet_name\u001b[49m\u001b[43m,\u001b[49m\n\u001b[0;32m   2420\u001b[0m \u001b[43m    \u001b[49m\u001b[43mstartrow\u001b[49m\u001b[38;5;241;43m=\u001b[39;49m\u001b[43mstartrow\u001b[49m\u001b[43m,\u001b[49m\n\u001b[0;32m   2421\u001b[0m \u001b[43m    \u001b[49m\u001b[43mstartcol\u001b[49m\u001b[38;5;241;43m=\u001b[39;49m\u001b[43mstartcol\u001b[49m\u001b[43m,\u001b[49m\n\u001b[0;32m   2422\u001b[0m \u001b[43m    \u001b[49m\u001b[43mfreeze_panes\u001b[49m\u001b[38;5;241;43m=\u001b[39;49m\u001b[43mfreeze_panes\u001b[49m\u001b[43m,\u001b[49m\n\u001b[0;32m   2423\u001b[0m \u001b[43m    \u001b[49m\u001b[43mengine\u001b[49m\u001b[38;5;241;43m=\u001b[39;49m\u001b[43mengine\u001b[49m\u001b[43m,\u001b[49m\n\u001b[0;32m   2424\u001b[0m \u001b[43m    \u001b[49m\u001b[43mstorage_options\u001b[49m\u001b[38;5;241;43m=\u001b[39;49m\u001b[43mstorage_options\u001b[49m\u001b[43m,\u001b[49m\n\u001b[0;32m   2425\u001b[0m \u001b[43m    \u001b[49m\u001b[43mengine_kwargs\u001b[49m\u001b[38;5;241;43m=\u001b[39;49m\u001b[43mengine_kwargs\u001b[49m\u001b[43m,\u001b[49m\n\u001b[0;32m   2426\u001b[0m \u001b[43m\u001b[49m\u001b[43m)\u001b[49m\n",
      "File \u001b[1;32m~\\AppData\\Local\\Packages\\PythonSoftwareFoundation.Python.3.11_qbz5n2kfra8p0\\LocalCache\\local-packages\\Python311\\site-packages\\pandas\\io\\formats\\excel.py:943\u001b[0m, in \u001b[0;36mExcelFormatter.write\u001b[1;34m(self, writer, sheet_name, startrow, startcol, freeze_panes, engine, storage_options, engine_kwargs)\u001b[0m\n\u001b[0;32m    941\u001b[0m     need_save \u001b[38;5;241m=\u001b[39m \u001b[38;5;28;01mFalse\u001b[39;00m\n\u001b[0;32m    942\u001b[0m \u001b[38;5;28;01melse\u001b[39;00m:\n\u001b[1;32m--> 943\u001b[0m     writer \u001b[38;5;241m=\u001b[39m \u001b[43mExcelWriter\u001b[49m\u001b[43m(\u001b[49m\n\u001b[0;32m    944\u001b[0m \u001b[43m        \u001b[49m\u001b[43mwriter\u001b[49m\u001b[43m,\u001b[49m\n\u001b[0;32m    945\u001b[0m \u001b[43m        \u001b[49m\u001b[43mengine\u001b[49m\u001b[38;5;241;43m=\u001b[39;49m\u001b[43mengine\u001b[49m\u001b[43m,\u001b[49m\n\u001b[0;32m    946\u001b[0m \u001b[43m        \u001b[49m\u001b[43mstorage_options\u001b[49m\u001b[38;5;241;43m=\u001b[39;49m\u001b[43mstorage_options\u001b[49m\u001b[43m,\u001b[49m\n\u001b[0;32m    947\u001b[0m \u001b[43m        \u001b[49m\u001b[43mengine_kwargs\u001b[49m\u001b[38;5;241;43m=\u001b[39;49m\u001b[43mengine_kwargs\u001b[49m\u001b[43m,\u001b[49m\n\u001b[0;32m    948\u001b[0m \u001b[43m    \u001b[49m\u001b[43m)\u001b[49m\n\u001b[0;32m    949\u001b[0m     need_save \u001b[38;5;241m=\u001b[39m \u001b[38;5;28;01mTrue\u001b[39;00m\n\u001b[0;32m    951\u001b[0m \u001b[38;5;28;01mtry\u001b[39;00m:\n",
      "File \u001b[1;32m~\\AppData\\Local\\Packages\\PythonSoftwareFoundation.Python.3.11_qbz5n2kfra8p0\\LocalCache\\local-packages\\Python311\\site-packages\\pandas\\io\\excel\\_openpyxl.py:57\u001b[0m, in \u001b[0;36mOpenpyxlWriter.__init__\u001b[1;34m(self, path, engine, date_format, datetime_format, mode, storage_options, if_sheet_exists, engine_kwargs, **kwargs)\u001b[0m\n\u001b[0;32m     44\u001b[0m \u001b[38;5;28;01mdef\u001b[39;00m \u001b[38;5;21m__init__\u001b[39m(\n\u001b[0;32m     45\u001b[0m     \u001b[38;5;28mself\u001b[39m,\n\u001b[0;32m     46\u001b[0m     path: FilePath \u001b[38;5;241m|\u001b[39m WriteExcelBuffer \u001b[38;5;241m|\u001b[39m ExcelWriter,\n\u001b[1;32m   (...)\u001b[0m\n\u001b[0;32m     55\u001b[0m ) \u001b[38;5;241m-\u001b[39m\u001b[38;5;241m>\u001b[39m \u001b[38;5;28;01mNone\u001b[39;00m:\n\u001b[0;32m     56\u001b[0m     \u001b[38;5;66;03m# Use the openpyxl module as the Excel writer.\u001b[39;00m\n\u001b[1;32m---> 57\u001b[0m     \u001b[38;5;28;01mfrom\u001b[39;00m \u001b[38;5;21;01mopenpyxl\u001b[39;00m\u001b[38;5;21;01m.\u001b[39;00m\u001b[38;5;21;01mworkbook\u001b[39;00m \u001b[38;5;28;01mimport\u001b[39;00m Workbook\n\u001b[0;32m     59\u001b[0m     engine_kwargs \u001b[38;5;241m=\u001b[39m combine_kwargs(engine_kwargs, kwargs)\n\u001b[0;32m     61\u001b[0m     \u001b[38;5;28msuper\u001b[39m()\u001b[38;5;241m.\u001b[39m\u001b[38;5;21m__init__\u001b[39m(\n\u001b[0;32m     62\u001b[0m         path,\n\u001b[0;32m     63\u001b[0m         mode\u001b[38;5;241m=\u001b[39mmode,\n\u001b[1;32m   (...)\u001b[0m\n\u001b[0;32m     66\u001b[0m         engine_kwargs\u001b[38;5;241m=\u001b[39mengine_kwargs,\n\u001b[0;32m     67\u001b[0m     )\n",
      "\u001b[1;31mModuleNotFoundError\u001b[0m: No module named 'openpyxl'"
     ]
    }
   ],
   "source": [
    "import openai\n",
    "import pandas as pd\n",
    "\n",
    "# Initialize OpenAI API\n",
    "client.api_key = \"sk-Z2OiBLrrPNVXvl7EaHZj8SHMjXOo0FoOSHkkSlcwrLT3BlbkFJL3qaWbssfsw0iMYCXs-dCdjdwIo0wbQ3t2-WcWD0IA\"\n",
    "\n",
    "# Read Excel file\n",
    "file_path = \"savedrecs.xls\"  # Replace with the actual file path\n",
    "data = pd.read_excel(file_path)\n",
    "\n",
    "# Extract relevant columns\n",
    "relevant_columns = [\"Article Title\", \"Abstract\", \"DOI\"]\n",
    "papers = data[relevant_columns]\n",
    "\n",
    "# Function to evaluate relevance\n",
    "def evaluate_paper(title, abstract):\n",
    "    prompt = f\"\"\"\n",
    "    You are an expert on human mobility and infectious disease modeling. Evaluate the following research paper for its relevance to:\n",
    "    1. The analysis of human movement effects on infectious diseases.\n",
    "    2. The availability of publicly accessible mobility datasets for such studies.\n",
    "\n",
    "    Provide a score (1 to 10) and an explanation for each criterion. Return the results as a JSON object with \"relevance_score\", \"dataset_score\", and \"explanation\".\n",
    "\n",
    "    Title: {title}\n",
    "    Abstract: {abstract}\n",
    "    \"\"\"\n",
    "    try:\n",
    "        response = client.chat.completions.create(\n",
    "            model=\"gpt-4\",\n",
    "            messages=[\n",
    "                {\"role\": \"system\", \"content\": \"You are an expert in human mobility and infectious diseases.\"},\n",
    "                {\"role\": \"user\", \"content\": prompt}\n",
    "            ]\n",
    "        )\n",
    "        return response.choices[0].message.content\n",
    "    except Exception as e:\n",
    "        print(f\"Error processing paper: {title}. Error: {e}\")\n",
    "        return None\n",
    "\n",
    "# Process each paper\n",
    "results = []\n",
    "for index, row in papers.head(5).iterrows():\n",
    "    title = row[\"Article Title\"]\n",
    "    abstract = row[\"Abstract\"]\n",
    "    doi = row[\"DOI\"]\n",
    "    \n",
    "    if pd.notna(title) and pd.notna(abstract):\n",
    "        print(f\"Evaluating paper: {title}\")\n",
    "        result = evaluate_paper(title, abstract)\n",
    "        if result:\n",
    "            results.append({\n",
    "                \"Title\": title,\n",
    "                \"DOI\": doi,\n",
    "                \"Evaluation\": result\n",
    "            })\n",
    "\n",
    "\n"
   ]
  },
  {
   "cell_type": "code",
   "execution_count": 9,
   "metadata": {},
   "outputs": [
    {
     "data": {
      "text/plain": [
       "[{'Title': 'Comparing metapopulation dynamics of infectious diseases under different models of human movement',\n",
       "  'DOI': '10.1073/pnas.2007488118',\n",
       "  'Evaluation': '{\\n\"relevance_score\": 9,\\n\"dataset_score\": 7,\\n\"explanation\": {\\n    \"relevance_explanation\": \"The paper is highly relevant to the analysis of human movement effects on infectious diseases as it explicitly discusses various models of human movement and their impact on disease dynamics. The paper evaluates and compares three well-studied models of infectious diseases with two possible movement models and then discusses the effect on the outcomes. The relevance score is a 9.\",\\n    \"dataset_explanation\": \"The paper mentions how newly available datasets are being used to construct models that help in understanding the spread of diseases across large geographical areas. However, it does not explicitly mention that these datasets are publicly accessible or provide specifics on what the datasets consist of. Thus, the paper provides some relevance to the availability of data, but more information would have been beneficial. Hence, the dataset score is a 7.\"\\n}\\n}'},\n",
       " {'Title': 'Evaluating the impact of human flow on the spread of infectious diseases',\n",
       "  'DOI': '10.1016/j.jtbi.2022.111367',\n",
       "  'Evaluation': '{\\n    \"relevance_score\": 9,\\n    \"explanation_relevance\": \"The paper is highly relevant to the analysis of human movement effects on infectious diseases as it specifically studies inter-municipality trips and their impact on disease spread. It uses an extended susceptible-infectious-recovered model that takes into account both daily and long-term movement patterns. The focus on the time it takes for an outbreak to spread given these movement patterns brings a valuable understanding of how human mobility directly affects infectious disease transmission.\",\\n\\n    \"dataset_score\": 6,\\n    \"explanation_dataset\": \"The paper makes use of actual human flow data, but it does not clearly mention if the data is publicly accessible or not. Without specific mention of the datasets they used and their accessibility, the score for this is medium. However, the existence and use of real-life human mobility data shows promise that such studies can be replicated or expanded upon given availability of similar data.\"\\n}'},\n",
       " {'Title': 'Modeling Impact of Temperature and Human Movement on the Persistence of Dengue Disease',\n",
       "  'DOI': '10.1155/2017/1747134',\n",
       "  'Evaluation': '{\\n    \"relevance_score\": 9,\\n    \"dataset_score\": 3,\\n    \"explanation\": {\\n        \"relevance\": \"The paper\\'s focus on the impact of temperature and human movement on the transmission dynamics of dengue diseases makes it highly relevant to analyzing the effects of human movement on infectious diseases. The system of equations they propose models interactions between humans and mosquitoes as influenced by temperature and human mobility, directly addressing the first evaluation criterion. The qualitative analysis and use of the basic reproduction number, as well as discussing different human movement rates, provide depth to this relevance. Hence, a score of 9.\",\\n        \"dataset\": \"Although the research model involves human movement rates, there is no mention in the abstract about the availability or use of specific, publicly accessible mobility datasets. This makes it difficult to evaluate it against the second criterion. While perhaps data was used, its details and how it\\'s made accessible are not outlined. For this reason, the paper is given a score of 3 for this criterion.\",\\n        \"overall\": \"Considering both the relevance of analysis of human mobility\\'s effects on infectious diseases, and the availability of publicly accessible mobility datasets for such studies, this paper presents valuable insights. But, the lack of clear mention on open datasets used restrains from scoring it perfect.\"\\n    }\\n}'},\n",
       " {'Title': 'Human migration and infectious diseases',\n",
       "  'DOI': '10.1111/j.1469-0691.2008.02694.x',\n",
       "  'Evaluation': '{\\n    \"relevance_score\": 10,\\n    \"dataset_score\": 3,\\n    \"explanation\": {\\n        \"relevance_score\": \"The paper appears to be highly relevant to the analysis of human movement effects on infectious diseases. It explicitly links movement and migration of populations with the spread of emerging infectious diseases, indicating a thorough understanding of the interaction between these factors. However, it doesn\\'t seem to take a quantitative or modeling approach, which might lower its practical relevance for those specific aspects.\",\\n        \"dataset_score\": \"The paper doesn\\'t address the availability of publicly accessible mobility datasets. While it discusses surveillance systems and the need for rapid response, there is no mention of the use of existing data sets or the creation of new ones to aid in tracking or modeling disease spread.\"\\n    }\\n}'}]"
      ]
     },
     "execution_count": 9,
     "metadata": {},
     "output_type": "execute_result"
    }
   ],
   "source": [
    "results"
   ]
  },
  {
   "cell_type": "code",
   "execution_count": 8,
   "metadata": {},
   "outputs": [
    {
     "ename": "ModuleNotFoundError",
     "evalue": "No module named 'openpyxl'",
     "output_type": "error",
     "traceback": [
      "\u001b[1;31m---------------------------------------------------------------------------\u001b[0m",
      "\u001b[1;31mModuleNotFoundError\u001b[0m                       Traceback (most recent call last)",
      "Cell \u001b[1;32mIn[8], line 1\u001b[0m\n\u001b[1;32m----> 1\u001b[0m \u001b[38;5;28;01mimport\u001b[39;00m \u001b[38;5;21;01mopenpyxl\u001b[39;00m\n\u001b[0;32m      2\u001b[0m \u001b[38;5;66;03m# Save results to a new Excel file\u001b[39;00m\n\u001b[0;32m      3\u001b[0m output_file \u001b[38;5;241m=\u001b[39m \u001b[38;5;124m\"\u001b[39m\u001b[38;5;124mpaper_relevance_scores.xlsx\u001b[39m\u001b[38;5;124m\"\u001b[39m\n",
      "\u001b[1;31mModuleNotFoundError\u001b[0m: No module named 'openpyxl'"
     ]
    }
   ],
   "source": [
    "import openpyxl\n",
    "# Save results to a new Excel file\n",
    "output_file = \"paper_relevance_scores.xlsx\"\n",
    "output_data = pd.DataFrame(results)\n",
    "output_data.to_excel(output_file, index=False)\n",
    "print(f\"Results saved to {output_file}\")"
   ]
  }
 ],
 "metadata": {
  "kernelspec": {
   "display_name": "Python 3",
   "language": "python",
   "name": "python3"
  },
  "language_info": {
   "codemirror_mode": {
    "name": "ipython",
    "version": 3
   },
   "file_extension": ".py",
   "mimetype": "text/x-python",
   "name": "python",
   "nbconvert_exporter": "python",
   "pygments_lexer": "ipython3",
   "version": "3.11.9"
  }
 },
 "nbformat": 4,
 "nbformat_minor": 2
}
